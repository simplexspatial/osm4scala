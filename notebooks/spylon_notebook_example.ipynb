{
 "cells": [
  {
   "cell_type": "code",
   "execution_count": 1,
   "id": "designed-filter",
   "metadata": {},
   "outputs": [],
   "source": [
    "%%init_spark\n",
    "launcher.packages = [\"com.acervera.osm4scala:osm4scala-spark3-shaded_2.12:1.0.11\"]"
   ]
  },
  {
   "cell_type": "code",
   "execution_count": 2,
   "id": "presidential-indicator",
   "metadata": {},
   "outputs": [
    {
     "data": {
      "text/plain": [
       "Intitializing Scala interpreter ..."
      ]
     },
     "metadata": {},
     "output_type": "display_data"
    },
    {
     "data": {
      "text/plain": [
       "Spark Web UI available at http://00960ce14695:4040\n",
       "SparkContext available as 'sc' (version = 3.1.1, master = local[*], app id = local-1616932761829)\n",
       "SparkSession available as 'spark'\n"
      ]
     },
     "metadata": {},
     "output_type": "display_data"
    },
    {
     "name": "stdout",
     "output_type": "stream",
     "text": [
      "+------------------+------------------+\n",
      "|          latitude|         longitude|\n",
      "+------------------+------------------+\n",
      "|        43.7404536|         7.4255921|\n",
      "|43.735232199999984|7.4172090999999964|\n",
      "| 43.74056770000005| 7.425668299999998|\n",
      "| 43.74105300000008|         7.4251924|\n",
      "|43.740832300000086|7.4248856000000005|\n",
      "| 43.73284880000016| 7.413575600000005|\n",
      "| 43.73192230000009| 7.418280400000008|\n",
      "|43.730768099999906| 7.414770299999999|\n",
      "| 43.73532369999991|         7.4172739|\n",
      "|43.732129199999875| 7.421924500000004|\n",
      "|43.730713200000054| 7.414793800000008|\n",
      "| 43.73207680000005|  7.42194350000001|\n",
      "| 43.74131380000003| 7.425318300000009|\n",
      "| 43.73201349999998| 7.417569199999991|\n",
      "| 43.72907479999997| 7.414517299999991|\n",
      "+------------------+------------------+\n",
      "\n"
     ]
    },
    {
     "data": {
      "text/plain": [
       "osmDF: org.apache.spark.sql.DataFrame = [id: bigint, type: tinyint ... 5 more fields]\n"
      ]
     },
     "execution_count": 2,
     "metadata": {},
     "output_type": "execute_result"
    }
   ],
   "source": [
    "val osmDF = spark.read.format(\"osm.pbf\").load(\"/home/jovyan/work/monaco-anonymized.osm.pbf\")\n",
    "osmDF.select(\"latitude\", \"longitude\")\n",
    "    .where(\"element_at(tags, 'highway') == 'traffic_signals'\")\n",
    "    .show"
   ]
  },
  {
   "cell_type": "code",
   "execution_count": 3,
   "id": "literary-moldova",
   "metadata": {},
   "outputs": [
    {
     "name": "stdout",
     "output_type": "stream",
     "text": [
      "+------------------+------------------+\n",
      "|          latitude|         longitude|\n",
      "+------------------+------------------+\n",
      "|        43.7404536|         7.4255921|\n",
      "|43.735232199999984|7.4172090999999964|\n",
      "| 43.74056770000005| 7.425668299999998|\n",
      "| 43.74105300000008|         7.4251924|\n",
      "|43.740832300000086|7.4248856000000005|\n",
      "| 43.73284880000016| 7.413575600000005|\n",
      "| 43.73192230000009| 7.418280400000008|\n",
      "|43.730768099999906| 7.414770299999999|\n",
      "| 43.73532369999991|         7.4172739|\n",
      "|43.732129199999875| 7.421924500000004|\n",
      "|43.730713200000054| 7.414793800000008|\n",
      "| 43.73207680000005|  7.42194350000001|\n",
      "| 43.74131380000003| 7.425318300000009|\n",
      "| 43.73201349999998| 7.417569199999991|\n",
      "| 43.72907479999997| 7.414517299999991|\n",
      "+------------------+------------------+\n",
      "\n"
     ]
    }
   ],
   "source": [
    "%%python\n",
    "osm_df = spark.read.format(\"osm.pbf\").load(\"/home/jovyan/work/monaco-anonymized.osm.pbf\")\n",
    "osm_df.select(\"latitude\", \"longitude\").where(\"element_at(tags, 'highway') == 'traffic_signals'\").show()"
   ]
  }
 ],
 "metadata": {
  "kernelspec": {
   "display_name": "spylon-kernel",
   "language": "scala",
   "name": "spylon-kernel"
  },
  "language_info": {
   "codemirror_mode": "text/x-scala",
   "file_extension": ".scala",
   "help_links": [
    {
     "text": "MetaKernel Magics",
     "url": "https://metakernel.readthedocs.io/en/latest/source/README.html"
    }
   ],
   "mimetype": "text/x-scala",
   "name": "scala",
   "pygments_lexer": "scala",
   "version": "0.4.1"
  }
 },
 "nbformat": 4,
 "nbformat_minor": 5
}
